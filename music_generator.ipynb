{
 "cells": [
  {
   "cell_type": "markdown",
   "metadata": {},
   "source": [
    "# Music Generator\n",
    "\n",
    "\n",
    "This project makes use of autoencoders (LSTMs) to learn and predict musical sequences. \n",
    "\n",
    "Music is traditionally represented as a sequence of notes, rests, and their duration. In a single bar of a 4/4 time signature, we may have a whole note, half note, quarter note, eight note and so on, with some combination of complex notes and rests. For example: we may have a note of duration 3/8s which is a quarter note extended with another eight note.\n",
    "\n",
    "One may therefore choose to learn and predict notes with their durations, in the same represenation musical sheets represent them. We however, chose to represent notes as a sequence of vectors [inspired by this paper](https://mail.google.com/mail/u/1/#search/blues/KtbxLthKLdMJhtGbjfznrHwWJMVxscXTLV). A bar is divided into 32 vectors representing 16 notes on beat and 16 notes off-beat. Each vector is 72 binary elements long, representing all notes on a 24 fret guitar flow the lowest pitch to the highest pitch. In this representation, a quarter note on beat consists of 4 identical vectors. The amountof notes per bar (32 in our case) is the resolution we allow in the music. The downside of this approach is that two consecutive sixteenth notes are identical to a single eigth note. It can be solved with a higher resolution with the compromise of a larger data representation.\n",
    "\n",
    "By representing notes in such a way, we could formulate the problem as 72 items prediction problem, where we wish to predict the chance of any note to be played at a given time tick. However, since we wished for simplicity, we decided to formulate the problem as a finite category sequence generation problem, akin to text generation. We chose the highest frequence ~630 note configuration (note the total category set may contain up to 2^72 configurations), and filtered the data to only sequences with the chosen categories. Now at each point in time, we can choose 1 out of 636 options to play based on the previous 100 timeticks. The approach was inspired from [this artical](https://machinelearningmastery.com/text-generation-lstm-recurrent-neural-networks-python-keras/)\n",
    "\n",
    "### Midi files\n",
    "The original data was taken from files in the MIDI format. Reductively - midi format is a digital representation of events taking place on a musical instrument. Event may be a pedal press, note on, note off, program (musical instrument) change, etc. We did not include the **preprocessing** phase documentation here, although the code is available in the preprocessing.py file. We made that decision because it is a code-heavy operation and we wanted to focus on the theoretical machine learning formulation.\n"
   ]
  },
  {
   "cell_type": "code",
   "execution_count": 39,
   "metadata": {},
   "outputs": [],
   "source": [
    "from keras.models import Sequential\n",
    "import keras\n",
    "from keras.utils import np_utils\n",
    "import preprocessing\n",
    "import postprocessing\n",
    "import os\n",
    "from os import listdir\n",
    "from os.path import isfile, join, isdir\n",
    "import numpy as np\n",
    "import pickle\n"
   ]
  },
  {
   "cell_type": "code",
   "execution_count": null,
   "metadata": {},
   "outputs": [],
   "source": []
  },
  {
   "cell_type": "markdown",
   "metadata": {},
   "source": [
    "## Load the the preprocessed data\n",
    "As mentioned, the data containes 636 note configurations, which we will refer to as \"categories\". The input data consists of batches of 100 timeticks, each should be followed by a known note vector in the appropriate output data index."
   ]
  },
  {
   "cell_type": "code",
   "execution_count": 40,
   "metadata": {},
   "outputs": [],
   "source": []
  },
  {
   "cell_type": "code",
   "execution_count": 46,
   "metadata": {},
   "outputs": [
    {
     "name": "stdout",
     "output_type": "stream",
     "text": [
      "input data shape: (27115, 100)\n",
      "output data shape: (27115,)\n"
     ]
    }
   ],
   "source": [
    "#load the data from saved files\n",
    "sequence_length = 100\n",
    "pwd = os.path.dirname(os.path.realpath('__file__'))\n",
    "input_src = os.path.join(pwd, \"saved_data\",\"processed_200_filtered_net_input_final.txt\")\n",
    "output_src = os.path.join(pwd, \"saved_data\",\"processed_200_filtered_net_output_final.txt\")\n",
    "vocab_src = os.path.join(pwd, \"saved_data\",\"processed_200_filtered_vocabularies_final.pkl\")\n",
    "\n",
    "network_input = np.loadtxt(input_src, dtype=int)\n",
    "network_output = np.loadtxt(output_src, dtype=int)\n",
    "with open(vocab_src,'rb') as f: \n",
    "    str_to_int, int_to_str, count_int = pickle.load(f) #configuration to category conversions and counts \n",
    "\n",
    "print(\"input data shape: {0}\".format(network_input.shape))\n",
    "print(\"output data shape: {0}\".format(network_output.shape))"
   ]
  },
  {
   "cell_type": "markdown",
   "metadata": {},
   "source": [
    "We have 27115 different sequences we can learn from. Note (pun intended) that up to 200 consecutive sequence may be from the same musical track (see \"filtering\" notebook for further details)"
   ]
  },
  {
   "cell_type": "markdown",
   "metadata": {},
   "source": [
    "## Examine the data\n",
    "Here we can get an idea of the frequecy of each category. Let's see the most frequent 10 categories. We expect the zero vector (representing a rest) to be the most frequent, but we hope to see a relatively uniform distribution of categores except that"
   ]
  },
  {
   "cell_type": "code",
   "execution_count": 48,
   "metadata": {},
   "outputs": [
    {
     "data": {
      "image/png": "[encoded data removed]",
      "text/plain": [
       "<Figure size 432x288 with 1 Axes>"
      ]
     },
     "metadata": {
      "image/png": {
       "height": 250,
       "width": 396
      }
     },
     "output_type": "display_data"
    }
   ],
   "source": [
    "import matplotlib.pyplot as plt\n",
    "dict_keys = [k for k,v in sorted([(k,v) for k,v in count_int.items()], key=lambda tup: tup[1])[::-1]]\n",
    "dict_vals = sorted([v for k,v in count_int.items()])[::-1]\n",
    "#show the 10 most common note configurations\n",
    "plt.bar(dict_keys[:10], dict_vals[:10], color='g')\n",
    "plt.show()"
   ]
  },
  {
   "cell_type": "markdown",
   "metadata": {},
   "source": [
    "### Preparing the data for the model\n",
    "Since many sequences are taken from the same track consecutively, we should shuffle them before feeding them to the model. We also want to perform cross validation, so we'll split the data into train and test samples "
   ]
  },
  {
   "cell_type": "code",
   "execution_count": 50,
   "metadata": {},
   "outputs": [],
   "source": [
    "# Shuffle data\n",
    "n = network_input.shape[0]\n",
    "I = np.random.permutation(n)\n",
    "\n",
    "#define test and test sizes\n",
    "ntr = 20000\n",
    "nts = 5000\n",
    "\n",
    "X = network_input[I[:ntr+nts]]\n",
    "y = network_output[I[:ntr+nts]]\n",
    "\n",
    "nclass = np.maximum(np.max(X), np.max(y)) #amount of different configurations in the data\n",
    "\n",
    "#one-hot code\n",
    "X = np_utils.to_categorical(X, num_classes=nclass+1) \n",
    "y = np_utils.to_categorical(y, num_classes=nclass+1)\n",
    "\n",
    "#split to train and test\n",
    "Xtr = X[:ntr]\n",
    "ytr = y[:ntr]\n",
    "Xts = X[ntr:ntr+nts]\n",
    "yts = y[ntr:ntr+nts]"
   ]
  },
  {
   "cell_type": "markdown",
   "metadata": {},
   "source": [
    "## train / load model"
   ]
  },
  {
   "cell_type": "code",
   "execution_count": 51,
   "metadata": {},
   "outputs": [],
   "source": [
    "import keras.backend as K\n",
    "K.clear_session()"
   ]
  },
  {
   "cell_type": "code",
   "execution_count": 52,
   "metadata": {},
   "outputs": [
    {
     "name": "stdout",
     "output_type": "stream",
     "text": [
      "_________________________________________________________________\n",
      "Layer (type)                 Output Shape              Param #   \n",
      "=================================================================\n",
      "lstm_1 (LSTM)                (None, 100, 3)            7680      \n",
      "_________________________________________________________________\n",
      "dropout_1 (Dropout)          (None, 100, 3)            0         \n",
      "_________________________________________________________________\n",
      "lstm_2 (LSTM)                (None, 100, 128)          67584     \n",
      "_________________________________________________________________\n",
      "dropout_2 (Dropout)          (None, 100, 128)          0         \n",
      "_________________________________________________________________\n",
      "lstm_3 (LSTM)                (None, 128)               131584    \n",
      "_________________________________________________________________\n",
      "dropout_3 (Dropout)          (None, 128)               0         \n",
      "_________________________________________________________________\n",
      "dense_1 (Dense)              (None, 636)               82044     \n",
      "_________________________________________________________________\n",
      "activation_1 (Activation)    (None, 636)               0         \n",
      "=================================================================\n",
      "Total params: 288,892\n",
      "Trainable params: 288,892\n",
      "Non-trainable params: 0\n",
      "_________________________________________________________________\n"
     ]
    }
   ],
   "source": [
    "final_model = Sequential()\n",
    "final_model.add(keras.layers.LSTM(\n",
    "        3,\n",
    "        input_shape=(Xtr.shape[1], Xtr.shape[2]),\n",
    "        return_sequences=True\n",
    "    ))\n",
    "final_model.add(keras.layers.Dropout(0.3))\n",
    "final_model.add(keras.layers.LSTM(128,return_sequences=True)) #sub with catego\n",
    "final_model.add(keras.layers.Dropout(0.3))\n",
    "final_model.add(keras.layers.LSTM(128))\n",
    "final_model.add(keras.layers.Dropout(0.3))\n",
    "final_model.add(keras.layers.Dense(ytr.shape[1]))\n",
    "final_model.add(keras.layers.Activation('softmax'))\n",
    "\n",
    "\n",
    "\n",
    "pwd = os.path.dirname(os.path.realpath('__file__'))\n",
    "filepath = os.path.join(pwd, \"models\", \"weights-improvement-{epoch:02d}-{loss:.4f}-waitingModel-alldata.hdf5\")   \n",
    "checkpoint = keras.callbacks.ModelCheckpoint(\n",
    "    filepath, monitor='loss', \n",
    "    verbose=1,        \n",
    "    save_best_only=True,        \n",
    "    mode='min')\n",
    "\n",
    "callbacks_list = [checkpoint]     \n",
    "\n",
    "\n",
    "# load the network weights\n",
    "\n",
    "filename = \"weights-improvement-160-1.1110-alldata_final.hdf5\"\n",
    "model_path = os.path.join(pwd, \"models\", filename)\n",
    "final_model.load_weights(model_path) #use this line to load the weights of the pretrained model\n",
    "\n",
    "final_model.compile(loss='categorical_crossentropy', optimizer='rmsprop')\n",
    "#hist = final_model.fit(Xtr, ytr, epochs=400, batch_size=256, callbacks=callbacks_list, validation_data=(Xts,yts)) #use this line to train a new model\n",
    "\n",
    "final_model.summary()"
   ]
  },
  {
   "cell_type": "markdown",
   "metadata": {},
   "source": [
    "Here we loaded a model that we trained over night and reached a ~1.1 loss value. The model is slightly overfitted, but we find it to sound better on a test seed than all other models. The model has 288,892 parameters which although exceed the amount of examples we had, produce a decent sequece (as we will see soon)"
   ]
  },
  {
   "cell_type": "markdown",
   "metadata": {},
   "source": [
    "### Showtime\n",
    "Now that our model is ready we can give it a seed sequence to start predicting. We will use a random sequence from the test samples and use the postprocessing.py package that we wrote in order to convert it back to a midi file and save it. Upon execution of this cell, an \"original.mid\" file (representing the original test sequence) and a \"prediction.mid\" file will be saved to the working folder. You should be able to play them with GarageBand on a mac or Media Player on windows."
   ]
  },
  {
   "cell_type": "code",
   "execution_count": 53,
   "metadata": {},
   "outputs": [
    {
     "name": "stdout",
     "output_type": "stream",
     "text": [
      "Testing test pattern at 3962\n",
      "(1, 100, 636)\n",
      "149,544,544,149,149,208,208,208,208,539,539,539,538,490,490,540,540,540,540,540,540,541,541,542,539,539,539,543,543,544,544,149,149,544,544,149,149,208,208,208,208,539,539,539,538,490,490,540,540,540,540,540,540,541,541,542,539,539,539,543,543,544,544,149,149,544,544,149,149,208,208,208,208,539,539,539,538,490,490,540,540,540,540,540,540,541,541,542,539,539,539,543,543,544,544,149,149,544,544,149,149,208,208,208,208,539,539,538,538,490,490,540,540,540,540,540,540,541,541,542,539,539,543,543,544,544,544,149,149,544,544,149,149,208,208,208,208,539,539,538,538,490,490,540,540,540,540,540,540,541,541,542,539,539,543,543,544,544,544,149,149,544,544,149,149,208,208,208,208,539,539,538,538,490,490,540,540,540,540,540,540,541,541,542,539,539,543,543,544,544,544,149,149,544,544,149,149,208,208,208,208,539,539,539,538,490,490,540,540,540,540,540,540,541,541,542,539,539,543,543,544,544,149,149,544,544,544,149,149,208,208,208,208,539,539,539,538,490,490,540,540,540,540,540,540,541,541,542,539,539,543,543,544,544,149,149,544,544,544,149,149,208,208,208,208,539,539,539,538,490,490,540,540,540,540,540,540,541,541,542,539,539,543,543,544,544,149,149,544,544,544,149,149,208,208,208,208,539,539,538,538,490,490,540,540,540,540,540,540,541,541,542,539,539,543,543,544,544,149,149,544,544,544,544,149,208,208,208,208,539,539,538,538,490,490,540,540,540,540,540,540,541,541,542,539,539,543,543,544,544,149,149,544,544,544,544,149,208,208,208,208,539,539,538,538,490,490,540,540,540,540,540,540,541,541,542,539,539,543,543,544,544,149,149,544,544,544,544,149,208,208,208,208,539,539,539,538,490,490,540,540,540,540,540,540,541,541,541,539,539,543,543,544,544,149,149,544,544,544,544,149,208,208,208,208,539,539,539,538,490,490,540,540,540,540,540,540,541,541,542,539,539,543,543,544,544,149,149,544,544,544,544,149,208,208,208,208,539,539,539,538,490,490,540,540,540,540,540,540,541,541,542,539,539,543,543,544,544,149,149,544,544,544,544,149,208,208,208,208,539,539,538,538,490,490,540,540,540,540,540,\n",
      "(600, 636)\n"
     ]
    }
   ],
   "source": [
    "import random\n",
    "ind = random.randint(0,Xts.shape[0])\n",
    "print(\"Testing test pattern at {0}\".format(ind))\n",
    "nt = 500 #amount of notes to predict\n",
    "ynew = np.zeros(nt)\n",
    "pat_len = X.shape[1]\n",
    "pat = np.reshape(Xts[ind], (1,Xts.shape[1],Xts.shape[2]))\n",
    "patC = np.copy(pat)\n",
    "res = np.copy(pat)\n",
    "print(res.shape)\n",
    "for t in range(nt):\n",
    "    prob = final_model.predict(pat)\n",
    "    pred = np.argmax(prob)\n",
    "    print(pred,end=\",\")\n",
    "    newNote = np.zeros((1,1,X.shape[2]))\n",
    "    newNote[0,0,pred] = 1.0\n",
    "    pat = np.append(pat,newNote,axis=1)\n",
    "    res = np.append(res,newNote,axis=1)\n",
    "    pat = pat[:,1:sequence_length+1,:]\n",
    "\n",
    "print()\n",
    "print(res[0].shape)\n",
    "noteMat = np.zeros((res[0].shape[0],72),dtype=int)\n",
    "for veci, vec in enumerate(res[0]):\n",
    "    nextNoteInt = 0\n",
    "    for i,e in enumerate(vec):\n",
    "        if e > 0:\n",
    "            nextNoteInt = int(i)\n",
    "            break\n",
    "    noteMat[veci] = np.array([int(b) for b in int_to_str[nextNoteInt]])\n",
    "noteMat[-1] = np.zeros(72,dtype=int)\n",
    "postprocessing.convertMatToTrack(noteMat.T,32,\"prediction.mid\")\n",
    "\n",
    "\n",
    "noteMat = np.zeros((100,72),dtype=int)\n",
    "for veci, vec in enumerate(patC[0]):\n",
    "    nextNoteInt = 0\n",
    "    for i,e in enumerate(vec):\n",
    "        if e > 0:\n",
    "            nextNoteInt = int(i)\n",
    "            break\n",
    "    noteMat[veci] = np.array([int(b) for b in int_to_str[nextNoteInt]])\n",
    "noteMat[-1] = np.zeros(72,dtype=int)\n",
    "postprocessing.convertMatToTrack(noteMat.T,32,\"original.mid\")"
   ]
  },
  {
   "cell_type": "markdown",
   "metadata": {},
   "source": [
    "### Conclusion and further work\n",
    "\n",
    "We made a few compromises in this project, the two largest of them is using \"Smushed\" midi tracks containing multiple tracks merged together, and predicting categories instead of probabilities of notes being on/off. Both issued limited the expanse of results we could have achieved, but it made executing the solution a bit easier.\n",
    "\n",
    "For further work we may want to train more, on a larger network. Midi files are plenty and available, but time was not so. Given more time and higher processing power (which we can get using a GPU) we can try out better architectures. We could also restrict the genre of the data so that our generation will be less \"all over the place\".\n",
    "\n",
    "Overall, we're happy with the result. Even though there is no metric by which we can validate the quality of the procuced tracks, we think they sound decent. Or as was said before \"it won't win a Grammy, but it's pretty good\"."
   ]
  },
  {
   "cell_type": "code",
   "execution_count": null,
   "metadata": {},
   "outputs": [],
   "source": []
  },
  {
   "cell_type": "code",
   "execution_count": null,
   "metadata": {},
   "outputs": [],
   "source": []
  },
  {
   "cell_type": "code",
   "execution_count": null,
   "metadata": {},
   "outputs": [],
   "source": []
  },
  {
   "cell_type": "code",
   "execution_count": null,
   "metadata": {},
   "outputs": [],
   "source": []
  },
  {
   "cell_type": "code",
   "execution_count": null,
   "metadata": {},
   "outputs": [],
   "source": []
  }
 ],
 "metadata": {
  "kernelspec": {
   "display_name": "Python 3",
   "language": "python",
   "name": "python3"
  },
  "language_info": {
   "codemirror_mode": {
    "name": "ipython",
    "version": 3
   },
   "file_extension": ".py",
   "mimetype": "text/x-python",
   "name": "python",
   "nbconvert_exporter": "python",
   "pygments_lexer": "ipython3",
   "version": "3.6.5"
  }
 },
 "nbformat": 4,
 "nbformat_minor": 2
}
